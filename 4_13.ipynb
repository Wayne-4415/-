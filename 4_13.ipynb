{
 "cells": [
  {
   "cell_type": "code",
   "execution_count": 31,
   "metadata": {},
   "outputs": [
    {
     "data": {
      "text/plain": [
       "1003.0027507500005"
      ]
     },
     "execution_count": 31,
     "metadata": {},
     "output_type": "execute_result"
    }
   ],
   "source": [
    "import numpy as np\n",
    "import matplotlib.pyplot as plt\n",
    "\n",
    "#numerical integrations  func interpolation 2021  page7\n",
    "#rectangular rule\n",
    "\n",
    "#excercise page9\n",
    "\n",
    "#S = (0~10) 3x^2dx    1.rectangular  2.trapezoid  \n",
    "def f(x):\n",
    "    return 3 * x**2\n",
    "def rectangular(h):\n",
    "    height = np.linspace(0,10,h+1)\n",
    "    area_sum = 0\n",
    "    for i in height:\n",
    "        area_sum+= abs(f(i+0.5*10/h) * 10 / h)\n",
    "    #area_sum -= (f(0) + f(-1)) * 10 / h /2   #減去第一個宇最後一個方形誤差  \n",
    "    return area_sum\n",
    "\n",
    "def trapezoid(h):\n",
    "    height = np.linspace(0,10,h+1)\n",
    "    area_sum = 0\n",
    "    for i in range(h):\n",
    "        area_sum += abs( (f(height[i])+f(height[i+1])) * 10 / h /2 )\n",
    "    return area_sum\n",
    "\n",
    "\n",
    "rectangular(1000)"
   ]
  },
  {
   "cell_type": "code",
   "execution_count": 30,
   "metadata": {},
   "outputs": [
    {
     "data": {
      "text/plain": [
       "1000.0005000000009"
      ]
     },
     "execution_count": 30,
     "metadata": {},
     "output_type": "execute_result"
    }
   ],
   "source": [
    "trapezoid(1000)"
   ]
  },
  {
   "cell_type": "code",
   "execution_count": null,
   "metadata": {},
   "outputs": [],
   "source": [
    "#作業要用simpson rule page 14   上課講解~page21"
   ]
  },
  {
   "cell_type": "code",
   "execution_count": 32,
   "metadata": {},
   "outputs": [
    {
     "name": "stdout",
     "output_type": "stream",
     "text": [
      "3.141592653589793\n"
     ]
    }
   ],
   "source": []
  },
  {
   "cell_type": "code",
   "execution_count": null,
   "metadata": {},
   "outputs": [],
   "source": []
  }
 ],
 "metadata": {
  "kernelspec": {
   "display_name": "Python 3",
   "language": "python",
   "name": "python3"
  },
  "language_info": {
   "codemirror_mode": {
    "name": "ipython",
    "version": 3
   },
   "file_extension": ".py",
   "mimetype": "text/x-python",
   "name": "python",
   "nbconvert_exporter": "python",
   "pygments_lexer": "ipython3",
   "version": "3.7.9"
  }
 },
 "nbformat": 4,
 "nbformat_minor": 4
}
