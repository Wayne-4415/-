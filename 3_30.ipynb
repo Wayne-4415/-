{
 "cells": [
  {
   "cell_type": "code",
   "execution_count": 8,
   "metadata": {},
   "outputs": [
    {
     "name": "stdin",
     "output_type": "stream",
     "text": [
      "Enter a number:  5\n"
     ]
    },
    {
     "name": "stdout",
     "output_type": "stream",
     "text": [
      "Ans is 25\n"
     ]
    }
   ],
   "source": [
    "import math\n",
    "import numpy as np\n",
    "\n",
    "#先介紹bisection二分法  跟  while()\n",
    "#bisection 以 b - a <10^-3 終止\n",
    "\n",
    "#roots of equation page 7 exercise\n",
    "n = int(input(\"Enter a number: \"))\n",
    "ans = 0\n",
    "i = 0\n",
    "while (i < n):\n",
    "    ans += n\n",
    "    i += 1\n",
    "print(\"Ans is\", ans)\n",
    "\n"
   ]
  },
  {
   "cell_type": "code",
   "execution_count": 13,
   "metadata": {},
   "outputs": [
    {
     "data": {
      "text/plain": [
       "5.0001464843750005"
      ]
     },
     "execution_count": 13,
     "metadata": {},
     "output_type": "execute_result"
    }
   ],
   "source": [
    "#roots of equation page 9 exercise\n",
    "\n",
    "#set a function to do bisection for x**2-3x-10 = 0 this case\n",
    "def bisection(a,b):\n",
    "    while((b - a) > 0.001 ):\n",
    "        x0 = (a + b) / 2\n",
    "        if ((a**2 - 3 * a - 10) * (x0**2 - 3 * x0 - 10)) < 0:\n",
    "            b = x0\n",
    "            a = a\n",
    "        elif ((a**2 - 3 * a - 10) * (x0**2 - 3 * x0 - 10)) == 0:\n",
    "            return x0\n",
    "        else:\n",
    "            a = x0\n",
    "            b = b\n",
    "    return (a + b) / 2\n",
    "bisection(4.7,6.5)\n"
   ]
  },
  {
   "cell_type": "code",
   "execution_count": 29,
   "metadata": {},
   "outputs": [
    {
     "data": {
      "text/plain": [
       "5.00315274455555"
      ]
     },
     "execution_count": 29,
     "metadata": {},
     "output_type": "execute_result"
    }
   ],
   "source": [
    "#介紹牛頓法 Newton method\n",
    "def func(x):\n",
    "    return x**2 - 3*x - 10\n",
    "def newton_method(a):\n",
    "    b = a - (func(a) / (2*a - 3))\n",
    "    while((b-a) > 0.001):\n",
    "        a = b\n",
    "        b = a - (func(a) / (2*a - 3))\n",
    "    return b\n",
    "\n",
    "newton_method(4.11)"
   ]
  },
  {
   "cell_type": "code",
   "execution_count": 21,
   "metadata": {},
   "outputs": [
    {
     "data": {
      "text/plain": [
       "5.016413793103448"
      ]
     },
     "execution_count": 21,
     "metadata": {},
     "output_type": "execute_result"
    }
   ],
   "source": [
    "def newton_method_test(a):\n",
    "    \n",
    "    b = a - (func(a) / (2*a - 3))\n",
    "    while((b-a) > 0.001):\n",
    "        \n",
    "        b = a - (func(a) / (func(b)-func(a)/(b - a)))\n",
    "        a = b\n",
    "    return b\n",
    "\n",
    "newton_method_test(4.5) \n",
    "        \n",
    "        "
   ]
  },
  {
   "cell_type": "code",
   "execution_count": null,
   "metadata": {},
   "outputs": [],
   "source": []
  }
 ],
 "metadata": {
  "kernelspec": {
   "display_name": "Python 3",
   "language": "python",
   "name": "python3"
  },
  "language_info": {
   "codemirror_mode": {
    "name": "ipython",
    "version": 3
   },
   "file_extension": ".py",
   "mimetype": "text/x-python",
   "name": "python",
   "nbconvert_exporter": "python",
   "pygments_lexer": "ipython3",
   "version": "3.7.9"
  }
 },
 "nbformat": 4,
 "nbformat_minor": 4
}
